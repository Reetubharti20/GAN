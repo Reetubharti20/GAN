{
  "nbformat": 4,
  "nbformat_minor": 0,
  "metadata": {
    "colab": {
      "provenance": [],
      "gpuType": "T4"
    },
    "kernelspec": {
      "name": "python3",
      "display_name": "Python 3"
    },
    "language_info": {
      "name": "python"
    },
    "accelerator": "GPU"
  },
  "cells": [
    {
      "cell_type": "markdown",
      "source": [
        "\n",
        "\n",
        "# Generative Adversarial Network for Handwritten Digit Synthesis\n",
        "\n"
      ],
      "metadata": {
        "id": "nipk5RUmU5Qe"
      }
    },
    {
      "cell_type": "markdown",
      "source": [
        "1. Dense (Fully connected layer) - each neuron is connected to every neuron in the previous layer\n",
        "2. Flatten - convert multi-dimensional input into a one-dimensional array\n",
        "4. Conv2D - extract features like edges, textures, and patterns\n",
        "5. Conv2DTranspose - it performs a transposed convolution (also known as deconvolution) to upsample input data, increasing its spatial dimensions.\n",
        "6. LeakyReLU -  activation function that allows a small, non-zero gradient (usually a small constant like 0.01) for negative inputs, preventing the \"dying ReLU\" problem.\n",
        "7. BatchNormalization- it normalizes the inputs of each layer by adjusting and scaling the activations, improving training speed, stability, and convergence by reducing internal covariate shift.\n",
        "8. Dropout -  randomly selected neurons are ignored (dropped out) during training to prevent overfitting\n",
        "\n",
        "9. Seqential - where layers are arranged in a linear stack, and each layer's output is passed directly to the next layer, commonly used in frameworks like Keras\n",
        "10. Adam - combines the benefits of both AdaGrad and RMSProp optimizer by adapting the learning rate\n"
      ],
      "metadata": {
        "id": "N9H6_vojvhHB"
      }
    },
    {
      "cell_type": "code",
      "source": [
        "# import all the libraries\n",
        "import tensorflow as tf\n",
        "from tensorflow.keras.layers import Dense, Flatten, Reshape, Conv2D, Conv2DTranspose, LeakyReLU, BatchNormalization, Dropout\n",
        "from tensorflow.keras.models import Sequential\n",
        "from tensorflow.keras.optimizers import Adam\n",
        "import numpy as np\n",
        "import matplotlib.pyplot as plt"
      ],
      "metadata": {
        "id": "87q8EUAsU29o"
      },
      "execution_count": 1,
      "outputs": []
    },
    {
      "cell_type": "markdown",
      "source": [
        "Step 1: Load and preprocess the MNIST dataset\n",
        "####MNIST dataset contains grayscale images of handwritten digits (0-9)\n",
        "####We normalize the images to the range [0, 1] for better training stability"
      ],
      "metadata": {
        "id": "e4vL3jv9X3FD"
      }
    },
    {
      "cell_type": "code",
      "source": [
        "# Load and preprocess the MNIST dataset\n",
        "(train_images, _), (_, _) = tf.keras.datasets.mnist.load_data()\n",
        "\n",
        "#normalize the dataset\n",
        "train_images = train_images / 255.0\n",
        "#add channel dimension for CNN compatibility\n",
        "train_images = np.expand_dims(train_images, axis=-1)\n",
        "#print(train_images)\n",
        "BUFFER_SIZE = 60000  # Total number of images in MNIST\n",
        "BATCH_SIZE = 256  # Number of images per training batch"
      ],
      "metadata": {
        "colab": {
          "base_uri": "https://localhost:8080/"
        },
        "id": "-AKMMHA4WVCN",
        "outputId": "d0c3c43b-d83a-40a0-ac42-7b3adbe538bf"
      },
      "execution_count": 2,
      "outputs": [
        {
          "output_type": "stream",
          "name": "stdout",
          "text": [
            "Downloading data from https://storage.googleapis.com/tensorflow/tf-keras-datasets/mnist.npz\n",
            "\u001b[1m11490434/11490434\u001b[0m \u001b[32m━━━━━━━━━━━━━━━━━━━━\u001b[0m\u001b[37m\u001b[0m \u001b[1m0s\u001b[0m 0us/step\n"
          ]
        }
      ]
    },
    {
      "cell_type": "code",
      "source": [
        "#TensorFlow dataset, shuffle, and batch the data for training\n",
        "dataset = tf.data.Dataset.from_tensor_slices(train_images).shuffle(BUFFER_SIZE).batch(BATCH_SIZE)\n",
        "print(dataset)"
      ],
      "metadata": {
        "colab": {
          "base_uri": "https://localhost:8080/"
        },
        "id": "7o0dKSUPWkRR",
        "outputId": "24a2c369-3fe5-4e3b-e2b4-e06b876fd7b0"
      },
      "execution_count": 5,
      "outputs": [
        {
          "output_type": "stream",
          "name": "stdout",
          "text": [
            "<_BatchDataset element_spec=TensorSpec(shape=(None, 28, 28, 1), dtype=tf.float64, name=None)>\n"
          ]
        }
      ]
    },
    {
      "cell_type": "markdown",
      "source": [
        "In a GAN, the generator is a model that creates fake data (like images,videos) starting from random noise, aiming to make it realistic enough to fool the discriminator."
      ],
      "metadata": {
        "id": "Xkx41ZdkgkiJ"
      }
    },
    {
      "cell_type": "code",
      "source": [
        "# Step 2: Define the Generator model\n",
        "\n",
        "def build_generator():\n",
        "    model = Sequential([\n",
        "        Dense(7 * 7 * 256, use_bias=False, input_shape=(100,)),  #fully connected layer to project noise to a feature map\n",
        "        BatchNormalization(),  #Normalize activations for stable training\n",
        "        LeakyReLU(),  # Activation function to introduce non-linearity\n",
        "\n",
        "        Reshape((7, 7, 256)),  #reshape the output to match a feature map size\n",
        "\n",
        "        #deconvolution layers to upsample the feature map\n",
        "        Conv2DTranspose(128, (5, 5), strides=(1, 1), padding='same', use_bias=False),\n",
        "        BatchNormalization(),\n",
        "        LeakyReLU(),\n",
        "\n",
        "        Conv2DTranspose(64, (5, 5), strides=(2, 2), padding='same', use_bias=False),\n",
        "        BatchNormalization(),\n",
        "        LeakyReLU(),\n",
        "\n",
        "        #final output layer to generate a 28x28 grayscale image\n",
        "        Conv2DTranspose(1, (5, 5), strides=(2, 2), padding='same', use_bias=False, activation='tanh')\n",
        "    ])\n",
        "    return model"
      ],
      "metadata": {
        "id": "_JHq-iv_W4EM"
      },
      "execution_count": 3,
      "outputs": []
    },
    {
      "cell_type": "markdown",
      "source": [
        "The Discriminator takes an image as input and predicts whether it is real or generated"
      ],
      "metadata": {
        "id": "KzERBa5PhXA4"
      }
    },
    {
      "cell_type": "code",
      "source": [
        "# Step 3: Define the Discriminator model\n",
        "\n",
        "def build_discriminator():\n",
        "    model = Sequential([\n",
        "        Conv2D(64, (5, 5), strides=(2, 2), padding='same', input_shape=(28, 28, 1)),  # First convolutional layer\n",
        "        LeakyReLU(),\n",
        "        Dropout(0.3),  # Regularization to prevent overfitting\n",
        "        # Second convolutional layer\n",
        "        Conv2D(128, (5, 5), strides=(2, 2), padding='same'),\n",
        "        LeakyReLU(),\n",
        "        Dropout(0.3),\n",
        "\n",
        "        Flatten(),  # Flatten the feature map for the dense layer\n",
        "        Dense(1)  # Output layer with a single neuron (real or fake prediction)\n",
        "    ])\n",
        "    return model"
      ],
      "metadata": {
        "id": "4UmqyzsUW9kb"
      },
      "execution_count": 4,
      "outputs": []
    },
    {
      "cell_type": "code",
      "source": [
        "# Step 4: Define the loss functions and optimizers for training\n",
        "generator = build_generator()\n",
        "discriminator = build_discriminator()\n",
        "# binary cross-entropy loss\n",
        "cross_entropy = tf.keras.losses.BinaryCrossentropy(from_logits=True)"
      ],
      "metadata": {
        "colab": {
          "base_uri": "https://localhost:8080/"
        },
        "id": "hYLurpJHXEp3",
        "outputId": "fb66eabc-f735-4f58-8a97-17f5fe3133b5"
      },
      "execution_count": 5,
      "outputs": [
        {
          "output_type": "stream",
          "name": "stderr",
          "text": [
            "/usr/local/lib/python3.10/dist-packages/keras/src/layers/core/dense.py:87: UserWarning: Do not pass an `input_shape`/`input_dim` argument to a layer. When using Sequential models, prefer using an `Input(shape)` object as the first layer in the model instead.\n",
            "  super().__init__(activity_regularizer=activity_regularizer, **kwargs)\n",
            "/usr/local/lib/python3.10/dist-packages/keras/src/layers/convolutional/base_conv.py:107: UserWarning: Do not pass an `input_shape`/`input_dim` argument to a layer. When using Sequential models, prefer using an `Input(shape)` object as the first layer in the model instead.\n",
            "  super().__init__(activity_regularizer=activity_regularizer, **kwargs)\n"
          ]
        }
      ]
    },
    {
      "cell_type": "code",
      "source": [
        "def generator_loss(fake_output):\n",
        "    return cross_entropy(tf.ones_like(fake_output), fake_output)  # Loss when the generator fools the discriminator\n",
        "\n",
        "def discriminator_loss(real_output, fake_output):\n",
        "    real_loss = cross_entropy(tf.ones_like(real_output), real_output)  # Loss for correctly identifying real images\n",
        "    fake_loss = cross_entropy(tf.zeros_like(fake_output), fake_output)  # Loss for correctly identifying fake images\n",
        "    return real_loss + fake_loss"
      ],
      "metadata": {
        "id": "J-meT0WhXGxW"
      },
      "execution_count": 6,
      "outputs": []
    },
    {
      "cell_type": "code",
      "source": [
        "# Optimizer for the generator\n",
        "generator_optimizer = Adam(1e-4)\n",
        "# Optimizer for the discriminator\n",
        "discriminator_optimizer = Adam(1e-4)"
      ],
      "metadata": {
        "id": "dpiEOlv3XTwF"
      },
      "execution_count": 7,
      "outputs": []
    },
    {
      "cell_type": "code",
      "source": [
        "# Step 5: Define the training loop\n",
        "EPOCHS = 50  # Total number of training epochs\n",
        "noise_dim = 100  # Dimension of the noise vector\n",
        "num_examples_to_generate = 16  # Number of images to generate for visualization\n",
        "# fixed seed for consistent visualization\n",
        "seed = tf.random.normal([num_examples_to_generate, noise_dim])"
      ],
      "metadata": {
        "id": "rfI6fs1TXYMD"
      },
      "execution_count": 8,
      "outputs": []
    },
    {
      "cell_type": "code",
      "source": [
        "def train_step(images):\n",
        "    noise = tf.random.normal([BATCH_SIZE, noise_dim])  # Generate a batch of random noise vectors\n",
        "\n",
        "    with tf.GradientTape() as gen_tape, tf.GradientTape() as disc_tape:\n",
        "        generated_images = generator(noise, training=True)  # Generate synthetic images\n",
        "\n",
        "        real_output = discriminator(images, training=True)  # Discriminator output for real images\n",
        "        fake_output = discriminator(generated_images, training=True)  # Discriminator output for fake images\n",
        "\n",
        "        gen_loss = generator_loss(fake_output)  # Compute generator loss\n",
        "        disc_loss = discriminator_loss(real_output, fake_output)  # Compute discriminator loss\n",
        "\n",
        "    # Backpropagate and update weights\n",
        "    gradients_of_generator = gen_tape.gradient(gen_loss, generator.trainable_variables)\n",
        "    gradients_of_discriminator = disc_tape.gradient(disc_loss, discriminator.trainable_variables)\n",
        "\n",
        "    generator_optimizer.apply_gradients(zip(gradients_of_generator, generator.trainable_variables))\n",
        "    discriminator_optimizer.apply_gradients(zip(gradients_of_discriminator, discriminator.trainable_variables))\n"
      ],
      "metadata": {
        "id": "BLGKPnqot1FP"
      },
      "execution_count": 9,
      "outputs": []
    },
    {
      "cell_type": "code",
      "source": [
        "from IPython.display import clear_output"
      ],
      "metadata": {
        "id": "DgOwO303XjSU"
      },
      "execution_count": 10,
      "outputs": []
    },
    {
      "cell_type": "code",
      "source": [
        "def train(dataset, epochs):\n",
        "    for epoch in range(epochs):\n",
        "        for image_batch in dataset:\n",
        "            train_step(image_batch)  # Train on each batch of images\n",
        "\n",
        "        # Generate and save images after each epoch\n",
        "        clear_output(wait=True)  # Clear the previous output\n",
        "        generate_and_save_images(generator, epoch + 1, seed)  # Save and display generated images\n",
        "\n",
        "    # Generate final images\n",
        "    clear_output(wait=True)\n",
        "    generate_and_save_images(generator, epochs, seed)"
      ],
      "metadata": {
        "id": "6mQJHt5rXnoa"
      },
      "execution_count": 11,
      "outputs": []
    },
    {
      "cell_type": "code",
      "source": [
        "def generate_and_save_images(model, epoch, test_input):\n",
        "    predictions = model(test_input, training=False)  # Generate images using the generator\n",
        "\n",
        "    fig = plt.figure(figsize=(4, 4))\n",
        "\n",
        "    for i in range(predictions.shape[0]):\n",
        "        plt.subplot(4, 4, i + 1)\n",
        "        plt.imshow(predictions[i, :, :, 0] * 127.5 + 127.5, cmap='gray')  # Rescale and display images\n",
        "        plt.axis('off')\n",
        "\n",
        "    plt.savefig(f'image_at_epoch_{epoch:04d}.png')  # Save images to file\n",
        "    plt.show()"
      ],
      "metadata": {
        "id": "bhw_8rpJXtTK"
      },
      "execution_count": 12,
      "outputs": []
    },
    {
      "cell_type": "code",
      "source": [
        "# Step 6: Start the training process\n",
        "# This trains the GAN for the specified number of epochs\n",
        "train(dataset, EPOCHS)\n"
      ],
      "metadata": {
        "id": "DtdRE1ixXGfQ",
        "colab": {
          "base_uri": "https://localhost:8080/",
          "height": 345
        },
        "outputId": "b9cce58f-6133-4041-9765-730031fb7277"
      },
      "execution_count": null,
      "outputs": [
        {
          "output_type": "display_data",
          "data": {
            "text/plain": [
              "<Figure size 400x400 with 16 Axes>"
            ],
            "image/png": "[encoded data removed]"
          },
          "metadata": {}
        }
      ]
    }
  ]
}